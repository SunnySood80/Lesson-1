{
  "nbformat": 4,
  "nbformat_minor": 0,
  "metadata": {
    "colab": {
      "provenance": [],
      "collapsed_sections": [
        "dJY-D4pALelR",
        "LarLmBqjM_YC",
        "gnP3D4P9NFIN",
        "LMum0siNNQzq",
        "t1uT-6ZLNWp6",
        "OO0oYxKdNieq",
        "ot-QtQwhNt5R",
        "1URExhWmNw2M",
        "ivC42NK4SmD6",
        "4pnVJpoyliTe",
        "x3YVoQmjmoDW",
        "MR7jmtvcmnft",
        "xp0Sa4jcnWG-",
        "zWGM31tynapm",
        "EbgQcXJgnhvP",
        "i-wykcELsxKb",
        "dAmJ9kDGWOAt",
        "oJtdaC89CLCz",
        "5hE5LfPACOfZ",
        "aXdecZ-QCRnZ",
        "J8l8ETNzCUGs",
        "H6fAWr0qCZj_",
        "SkfNE9ExUgsB"
      ],
      "gpuType": "T4"
    },
    "kernelspec": {
      "name": "python3",
      "display_name": "Python 3"
    },
    "language_info": {
      "name": "python"
    },
    "accelerator": "GPU"
  },
  "cells": [
    {
      "cell_type": "markdown",
      "source": [
        "# Assignment 1: Machine Learning, Deep Learning, YOLO\n",
        "\n",
        "For this assignment we will be working with the **California housing dataset** for machine learning, the **CIFAR-10 dataset** for deep learning, and your **own** dataset for object detection using YOLO.\n",
        "\n",
        "- **California Housing Dataset:**\n",
        "  - A regression dataset from scikit-learn, based on the 1990 U.S. census. It includes housing features like median income, house age, and number of rooms, with the goal of predicting median house values in California.\n",
        "\n",
        "- **CIFAR-10 Dataset:**\n",
        "  - A classification dataset containing 60,000 32x32 color images in 10 classes, including animals and vehicles. Widely used in machine learning for training and benchmarking image recognition models, especially CNNs.\n",
        "\n",
        "\n",
        "\n",
        "Parts of this assignment will require you to go **online** and find resources to help you answer some questions, as they were not covered in the tutorial. This is common in real world development scenarios, and **encouraged**.\n",
        "\n",
        "\n",
        "\n",
        "---\n",
        "\n",
        "\n",
        "Open the cells below to start\n",
        "\n"
      ],
      "metadata": {
        "id": "AF0S1auZCQlg"
      }
    },
    {
      "cell_type": "markdown",
      "source": [
        "# Machine Learning"
      ],
      "metadata": {
        "id": "dJY-D4pALelR"
      }
    },
    {
      "cell_type": "markdown",
      "source": [
        "## Step 1: Load and Explore the Dataset"
      ],
      "metadata": {
        "id": "LarLmBqjM_YC"
      }
    },
    {
      "cell_type": "code",
      "source": [
        "from sklearn.datasets import fetch_california_housing\n",
        "import pandas as pd\n",
        "\n",
        "# TASK: Load the California Housing dataset and convert it to a pandas DataFrame.\n",
        "\n",
        "\n",
        "# TASK: Explore the first few rows of the dataset.\n"
      ],
      "metadata": {
        "id": "7IlwfXNhM49V"
      },
      "execution_count": null,
      "outputs": []
    },
    {
      "cell_type": "markdown",
      "source": [
        "## Step 2: Basic Statistical Overview"
      ],
      "metadata": {
        "id": "gnP3D4P9NFIN"
      }
    },
    {
      "cell_type": "code",
      "source": [
        "# TASK: Display a statistical overview of the dataset.\n",
        "\n"
      ],
      "metadata": {
        "id": "FTIhvrOpNOes"
      },
      "execution_count": null,
      "outputs": []
    },
    {
      "cell_type": "markdown",
      "source": [
        "## Step 3: Visualize the Data"
      ],
      "metadata": {
        "id": "LMum0siNNQzq"
      }
    },
    {
      "cell_type": "code",
      "source": [
        "import matplotlib.pyplot as plt\n",
        "import seaborn as sns\n",
        "\n",
        "# TASK: Create a heatmap visualization to understand the data better.\n",
        "# Hint 1: Look at the seaborn library\n",
        "\n"
      ],
      "metadata": {
        "id": "qZikN8WnNUNm"
      },
      "execution_count": null,
      "outputs": []
    },
    {
      "cell_type": "markdown",
      "source": [
        "**Graph should look like this:**\n",
        "![Image Description](https://drive.google.com/uc?export=view&id=1PzKy45PwQEw-YPvSFawiYNSztUZh92Ck)\n"
      ],
      "metadata": {
        "id": "YAZNcroocREr"
      }
    },
    {
      "cell_type": "markdown",
      "source": [
        "## Step 4: Data Processing"
      ],
      "metadata": {
        "id": "t1uT-6ZLNWp6"
      }
    },
    {
      "cell_type": "code",
      "source": [
        "# TASK: Perform feature scaling on the dataset and split it into training and testing sets.\n"
      ],
      "metadata": {
        "id": "wLErA_b8NaZY"
      },
      "execution_count": null,
      "outputs": []
    },
    {
      "cell_type": "markdown",
      "source": [
        "## Step 5: Train the Model"
      ],
      "metadata": {
        "id": "OO0oYxKdNieq"
      }
    },
    {
      "cell_type": "code",
      "source": [
        "# TASK: Initialize a RandomForestRegressor and train it on the training data.\n",
        "\n"
      ],
      "metadata": {
        "id": "NV_0fnnYNrtF"
      },
      "execution_count": null,
      "outputs": []
    },
    {
      "cell_type": "markdown",
      "source": [
        "## Step 6: Model Evaluation"
      ],
      "metadata": {
        "id": "ot-QtQwhNt5R"
      }
    },
    {
      "cell_type": "code",
      "source": [
        "# TASK: Evaluate the model using MSE and R-squared metrics.\n",
        "\n"
      ],
      "metadata": {
        "id": "UohcnVHaNvXV"
      },
      "execution_count": null,
      "outputs": []
    },
    {
      "cell_type": "markdown",
      "source": [
        "## Step 7: Using the Model for Prediction"
      ],
      "metadata": {
        "id": "1URExhWmNw2M"
      }
    },
    {
      "cell_type": "code",
      "source": [
        "# TASK: Use the model to make predictions on new data.\n"
      ],
      "metadata": {
        "id": "_6owx0ZxN2Lc"
      },
      "execution_count": null,
      "outputs": []
    },
    {
      "cell_type": "markdown",
      "source": [
        "## Step 8: Reflections"
      ],
      "metadata": {
        "id": "ivC42NK4SmD6"
      }
    },
    {
      "cell_type": "markdown",
      "source": [
        "\n",
        "\n",
        "1.   **Model Insights:** Reflect on the model's performance based on the metrics used (MSE, R-squared, etc.). What do these metrics tell you about the model's accuracy and reliability?\n",
        "\n",
        "2.   **Feature Influence:** Which features did you find to be most influential in predicting housing prices, based on your understanding of the dataset and the model's behavior?\n",
        "\n",
        "3.   **Model Complexity and Performance:** Do you think the complexity of the RandomForestRegressor was appropriate for this dataset? How might the model's complexity impact its performance and ability to generalize?\n",
        "\n",
        "4.   **Challenges in the Assignment:** What were the most challenging aspects you encountered during this assignment? How did you address these challenges?\n",
        "\n",
        "5.   **Potential Improvements:** What improvements or additional experiments would you consider to enhance the model's performance or to gain deeper insights?\n",
        "\n",
        "6.   **Real-World Implications:** How can the insights gained from this model be applied in real-world scenarios? What are some practical applications and potential limitations?\n",
        "\n",
        "7.   **Ethical Considerations:** Discuss any ethical concerns that might arise when using machine learning models in real estate, such as the prediction of housing prices. How might these concerns influence how you approach a data science problem?"
      ],
      "metadata": {
        "id": "gkj9MXmMRxfW"
      }
    },
    {
      "cell_type": "markdown",
      "source": [
        "**Put your answers down below**"
      ],
      "metadata": {
        "id": "b4C2exyGS6t7"
      }
    },
    {
      "cell_type": "markdown",
      "source": [
        "1.\n",
        "\n",
        "2.\n",
        "\n",
        "3.\n",
        "\n",
        "4.\n",
        "\n",
        "5.\n",
        "\n",
        "6."
      ],
      "metadata": {
        "id": "GzuNLk5IS6LT"
      }
    },
    {
      "cell_type": "markdown",
      "source": [
        "# Deep Learning"
      ],
      "metadata": {
        "id": "4pnVJpoyliTe"
      }
    },
    {
      "cell_type": "markdown",
      "source": [
        "### Step 1: Data Loading and Initial Exploration"
      ],
      "metadata": {
        "id": "x3YVoQmjmoDW"
      }
    },
    {
      "cell_type": "code",
      "source": [
        "import tensorflow as tf\n",
        "import matplotlib.pyplot as plt\n",
        "\n",
        "# TASK: Load the CIFAR-10 dataset using TensorFlow Keras and display the first few images.\n",
        "# Here are the class names for CIFAR-10\n",
        "class_names = ['Airplane', 'Car', 'Bird', 'Cat', 'Deer', 'Dog', 'Frog', 'Horse', 'Ship', 'Truck']\n"
      ],
      "metadata": {
        "id": "KIMqfDhllkSZ"
      },
      "execution_count": null,
      "outputs": []
    },
    {
      "cell_type": "markdown",
      "source": [
        "**Images should look like this**\n",
        "![Image Description](https://drive.google.com/uc?export=view&id=1_jCI6nepIuO3ya6gOQwDrZd7NEgXMc9H)\n"
      ],
      "metadata": {
        "id": "x3SPX7pEd0zc"
      }
    },
    {
      "cell_type": "markdown",
      "source": [
        "## Step 2: Preprocessing the Data"
      ],
      "metadata": {
        "id": "MR7jmtvcmnft"
      }
    },
    {
      "cell_type": "code",
      "source": [
        "# TASK: Normalize the pixel values of the images from [0, 255] to [0, 1] range\n",
        "\n",
        "# TASK: Reshape the images to add a channel dimension (necessary for CNNs)\n"
      ],
      "metadata": {
        "id": "sF661vpKmlnv"
      },
      "execution_count": null,
      "outputs": []
    },
    {
      "cell_type": "markdown",
      "source": [
        "## Step 3: Building the Neural Network Model (CNNs)"
      ],
      "metadata": {
        "id": "xp0Sa4jcnWG-"
      }
    },
    {
      "cell_type": "code",
      "source": [
        "import tensorflow as tf\n",
        "from tensorflow.keras.models import Sequential\n",
        "from tensorflow.keras.layers import Dense, Conv2D, MaxPooling2D, Flatten\n",
        "\n",
        "# TASK: Build a convolutional neural network for image classification.\n",
        "# Follow this model summary as to how to build your model\n",
        "\n",
        "# Model: \"sequential\"\n",
        "# _________________________________________________________________\n",
        "#  Layer (type)                Output Shape              Param #\n",
        "# =================================================================\n",
        "#  conv2d (Conv2D)             (None, 30, 30, 32)        896\n",
        "\n",
        "#  max_pooling2d (MaxPooling2  (None, 15, 15, 32)        0\n",
        "#  D)\n",
        "\n",
        "#  conv2d_1 (Conv2D)           (None, 13, 13, 64)        18496\n",
        "\n",
        "#  max_pooling2d_1 (MaxPoolin  (None, 6, 6, 64)          0\n",
        "#  g2D)\n",
        "\n",
        "#  conv2d_2 (Conv2D)           (None, 4, 4, 64)          36928\n",
        "\n",
        "#  flatten (Flatten)           (None, 1024)              0\n",
        "\n",
        "#  dense (Dense)               (None, 64)                65600\n",
        "\n",
        "#  dense_1 (Dense)             (None, 10)                650\n",
        "\n"
      ],
      "metadata": {
        "id": "n6GpiZ4gmwRA"
      },
      "execution_count": null,
      "outputs": []
    },
    {
      "cell_type": "markdown",
      "source": [
        "## Step 4: Training the Model"
      ],
      "metadata": {
        "id": "zWGM31tynapm"
      }
    },
    {
      "cell_type": "code",
      "source": [
        "from sklearn.model_selection import train_test_split\n",
        "# TASK: Combine the preprocessed train and test sets and then split into training, validation, and test sets (70:20:10 split).\n",
        "# Hint 1: https://www.geeksforgeeks.org/training-vs-testing-vs-validation-sets/\n",
        "\n",
        "\n",
        "# TASK: Compile the CNN model with an optimizer, loss function for multi-class classification, and metrics for evaluation.\n",
        "\n",
        "# TASK: Train the CNN model on the training data and validate it using the validation set. Choose an appropriate number of epochs.\n",
        "\n",
        "# TASK: Print training and validation metrics to evaluate the performance.\n"
      ],
      "metadata": {
        "id": "zupb0tvwnX10"
      },
      "execution_count": null,
      "outputs": []
    },
    {
      "cell_type": "markdown",
      "source": [
        "## Step 5: Evaluating the Model and Making Predictions"
      ],
      "metadata": {
        "id": "EbgQcXJgnhvP"
      }
    },
    {
      "cell_type": "code",
      "source": [
        "import numpy as np\n",
        "import matplotlib.pyplot as plt\n",
        "\n",
        "# TASK: Use the CNN model to make predictions on the test set and compare these predictions to the actual values.\n",
        "\n",
        "# TASK: Create a visualization to compare the actual and predicted values.\n",
        "\n"
      ],
      "metadata": {
        "id": "I3omheFUncYA"
      },
      "execution_count": null,
      "outputs": []
    },
    {
      "cell_type": "markdown",
      "source": [
        "**Predictions should look like this:**\n",
        "![Image Description](https://drive.google.com/uc?export=view&id=1uy3Lfg_TyhZA6SQuMc-x0BXI1j4p2Iln)\n"
      ],
      "metadata": {
        "id": "7rEK68oMd-KV"
      }
    },
    {
      "cell_type": "markdown",
      "source": [
        "## Step 6: Reflection Questions"
      ],
      "metadata": {
        "id": "i-wykcELsxKb"
      }
    },
    {
      "cell_type": "markdown",
      "source": [
        "\n",
        "1.   **Model Performance Analysis:** Reflect on the model's performance on the training, validation, and test data. Did you observe any signs of overfitting or underfitting? How well did the model generalize to the test data?\n",
        "\n",
        "2.   **Hyperparameter Tuning Insights:** Adjust some hyperparameters and train again. How did adjustments to the learning rate, number of epochs, or batch size affect the training process and the final model performance?\n",
        "\n",
        "\n",
        "3. **Impact of Model Complexity:** Do you think the complexity of your model was appropriate for the task? How might changes in the model's architecture (like adding or removing layers) affect its performance?\n",
        "\n",
        "4. **Comparison to Traditional Models:** How do you think a neural network model for this regression task compares to more traditional models, like linear regression or decision trees?\n",
        "\n",
        "5. **Real-World Applications:** Consider how this model could be used in real-world scenarios. What are some potential applications and challenges?\n",
        "\n",
        "6. **Learning and Challenges:** Reflect on your learning experience throughout this project. What were the most challenging aspects, and how did you address them?"
      ],
      "metadata": {
        "id": "vKn5Lvjxs0Lm"
      }
    },
    {
      "cell_type": "markdown",
      "source": [
        "**Put your answers down below**"
      ],
      "metadata": {
        "id": "0UShdhw9CdsS"
      }
    },
    {
      "cell_type": "markdown",
      "source": [
        "1.\n",
        "\n",
        "2.\n",
        "\n",
        "3.\n",
        "\n",
        "4.\n",
        "\n",
        "5.\n",
        "\n",
        "6."
      ],
      "metadata": {
        "id": "lJ_3xKL8BxWS"
      }
    },
    {
      "cell_type": "markdown",
      "source": [
        "# YOLO"
      ],
      "metadata": {
        "id": "dAmJ9kDGWOAt"
      }
    },
    {
      "cell_type": "markdown",
      "source": [
        "For this part of the assignment, you will be training a YOLOv4 Tiny object detection model using your **own** dataset from Roboflow, following the same procedure we used in the tutorial.\n",
        "\n",
        "Go here to find and fork a dataset: https://public.roboflow.com/object-detection/\n",
        "\n",
        "The majority of the code setup will be very similar to what we established in the tutorial, with some key changes:\n",
        "\n",
        "1.   Add some **augmentations** of your choice such as rotations, saturation, grayscale, etc... and upload a snapshot of the augmentation options you picked to in **Step 6: Reflections**.\n",
        "\n",
        "  *   Ensure you have **Auto-Orient** and **Resize** for preprocessing.\n",
        "\n",
        "  *   Choose ideally the smallest **max version size** (the number of new variations generated from the augmentations) a bigger max version size will result in longer train time.\n",
        "\n",
        "\n",
        "2.   Use the full **max_batches** forumla as we discussed. This will take a **long** time, for the sake of this assignment you will be training a **full** model.\n",
        "\n",
        "3.   Run your model on some images, save and upload **3** of them to **Step 6: Reflections**.\n",
        "\n",
        "4.   Answer the questions in **Step 6: Reflections** regarding your YOLOv4 Tiny model.\n",
        "\n",
        "\n"
      ],
      "metadata": {
        "id": "hKn1z8aWFays"
      }
    },
    {
      "cell_type": "markdown",
      "source": [
        "## Step 1: Environment Setup in Google Colab"
      ],
      "metadata": {
        "id": "oJtdaC89CLCz"
      }
    },
    {
      "cell_type": "code",
      "source": [
        "# TASK: Move to the proper directory and check Nvidia CUDA drivers.\n"
      ],
      "metadata": {
        "id": "USdlNzPsD3ah"
      },
      "execution_count": null,
      "outputs": []
    },
    {
      "cell_type": "code",
      "source": [
        "# TASK: Pull from the Darknet framework\n"
      ],
      "metadata": {
        "id": "X45E0ZO2ECRk"
      },
      "execution_count": null,
      "outputs": []
    },
    {
      "cell_type": "code",
      "source": [
        "# TASK: Modify Makefile\n"
      ],
      "metadata": {
        "id": "PROxglZFEIES"
      },
      "execution_count": null,
      "outputs": []
    },
    {
      "cell_type": "code",
      "source": [
        "# TASK: download the newly released yolov4-tiny weights\n"
      ],
      "metadata": {
        "id": "rS1BQVeAEL4R"
      },
      "execution_count": null,
      "outputs": []
    },
    {
      "cell_type": "markdown",
      "source": [
        "## Step 2: Obtaining and Processing Data"
      ],
      "metadata": {
        "id": "5hE5LfPACOfZ"
      }
    },
    {
      "cell_type": "code",
      "source": [
        "# TASK: Pull your data from roboflow\n"
      ],
      "metadata": {
        "id": "-NBH-0SVELHl"
      },
      "execution_count": null,
      "outputs": []
    },
    {
      "cell_type": "code",
      "source": [
        "# TASK: Set up training file directories for custom dataset\n"
      ],
      "metadata": {
        "id": "lIkumH0DER33"
      },
      "execution_count": null,
      "outputs": []
    },
    {
      "cell_type": "markdown",
      "source": [
        "## Step 3: Create Config file"
      ],
      "metadata": {
        "id": "aXdecZ-QCRnZ"
      }
    },
    {
      "cell_type": "code",
      "source": [
        "# TASK: build config dynamically based on number of classes\n"
      ],
      "metadata": {
        "id": "wIXMs-DOEXBP"
      },
      "execution_count": null,
      "outputs": []
    },
    {
      "cell_type": "code",
      "source": [
        "# TASK: Write cfg template"
      ],
      "metadata": {
        "id": "FEYOQTkwEbzH"
      },
      "execution_count": null,
      "outputs": []
    },
    {
      "cell_type": "markdown",
      "source": [
        "## Step 4: Train Model"
      ],
      "metadata": {
        "id": "J8l8ETNzCUGs"
      }
    },
    {
      "cell_type": "code",
      "source": [
        "# TASK: Train your model\n"
      ],
      "metadata": {
        "id": "mgG_XBBxEhNS"
      },
      "execution_count": null,
      "outputs": []
    },
    {
      "cell_type": "markdown",
      "source": [
        "## Step 5: Predict and visualize"
      ],
      "metadata": {
        "id": "H6fAWr0qCZj_"
      }
    },
    {
      "cell_type": "code",
      "source": [
        "# TASK: create a funciton to visualize your results\n"
      ],
      "metadata": {
        "id": "mqTDnvYMCaX3"
      },
      "execution_count": null,
      "outputs": []
    },
    {
      "cell_type": "code",
      "source": [
        "# TASK: copy label names to coco\n"
      ],
      "metadata": {
        "id": "RznP8STkEl1J"
      },
      "execution_count": null,
      "outputs": []
    },
    {
      "cell_type": "code",
      "source": [
        "# TASK: Predict on some test images and visualize\n"
      ],
      "metadata": {
        "id": "m1nIU3P-EoQg"
      },
      "execution_count": null,
      "outputs": []
    },
    {
      "cell_type": "markdown",
      "source": [
        "## Step 6: Reflections"
      ],
      "metadata": {
        "id": "SkfNE9ExUgsB"
      }
    },
    {
      "cell_type": "markdown",
      "source": [
        "**Insert Augmentation choice images here:**"
      ],
      "metadata": {
        "id": "Yi6_1zQ5MP-K"
      }
    },
    {
      "cell_type": "markdown",
      "source": [],
      "metadata": {
        "id": "qLuplT88heFl"
      }
    },
    {
      "cell_type": "markdown",
      "source": [
        "**Should look like this:**"
      ],
      "metadata": {
        "id": "LEZdOfFXheqR"
      }
    },
    {
      "cell_type": "markdown",
      "source": [
        "<img src=\"https://drive.google.com/uc?export=view&id=10Ra8pjegvU0JV2i5py5MLqamiGnoFRd9\" alt=\"Image Description\" width=\"200\"/>\n"
      ],
      "metadata": {
        "id": "mJAaFzbkUky5"
      }
    },
    {
      "cell_type": "markdown",
      "source": [],
      "metadata": {
        "id": "CRDYDUmle1Ka"
      }
    },
    {
      "cell_type": "markdown",
      "source": [
        "**Insert 3 prediction images here**"
      ],
      "metadata": {
        "id": "Qrt-DCtxUlef"
      }
    },
    {
      "cell_type": "markdown",
      "source": [],
      "metadata": {
        "id": "3exXPsKgUmoR"
      }
    },
    {
      "cell_type": "markdown",
      "source": [
        "\n",
        "\n",
        "1.   **Model Performance and Observations:** Reflect on the performance of your YOLO v4 Tiny model. How effective was it in terms of accuracy and speed for object detection? Did you notice any specific challenges or successes in detecting objects?\n",
        "\n",
        "2.   **Dataset Selection and Challenges:** Discuss the dataset you used for training the model. What were the main characteristics of this dataset, and what challenges did you face while working with it.\n",
        "\n",
        "3.   **Challenges in Training and Detection:**\n",
        "What were the most significant challenges you encountered during the training\n",
        "of the model or in the detection phase? How did you address these challenges?\n",
        "\n",
        "4.   **Real-World Application and Ethical Considerations:**\n",
        "How could the trained model be applied in real-world scenarios? Are there ethical considerations to be aware of when deploying this model in a practical setting?\n",
        "\n",
        "5.   **Reflection on Learning and Future Improvements:**\n",
        "Reflect on your learning experience throughout this assignment. What aspects did you find most enlightening? Based on your experience, what improvements would you suggest for future projects involving YOLO v4 Tiny or similar object detection tasks?"
      ],
      "metadata": {
        "id": "zZnTXb-hUnmA"
      }
    },
    {
      "cell_type": "markdown",
      "source": [
        "**Put your answers down below**"
      ],
      "metadata": {
        "id": "6mHlYUMvXRKi"
      }
    },
    {
      "cell_type": "markdown",
      "source": [
        "1.\n",
        "\n",
        "2.\n",
        "\n",
        "3.\n",
        "\n",
        "4.\n",
        "\n",
        "5.\n"
      ],
      "metadata": {
        "id": "T5ChBjRCXStw"
      }
    },
    {
      "cell_type": "code",
      "source": [],
      "metadata": {
        "id": "Y6h_lF5GXlRa"
      },
      "execution_count": null,
      "outputs": []
    }
  ]
}